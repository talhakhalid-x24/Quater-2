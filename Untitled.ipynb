{
 "cells": [
  {
   "cell_type": "code",
   "execution_count": 1,
   "metadata": {},
   "outputs": [
    {
     "name": "stdout",
     "output_type": "stream",
     "text": [
      "22\n",
      "6 17\n"
     ]
    }
   ],
   "source": [
    "def add_numbers(n1, n2):\n",
    "    #n1 and n2 are parameter\n",
    "    first_number=n1\n",
    "    second_number=n2\n",
    "    total=first_number+second_number\n",
    "    return total\n",
    "add_numbers(2, 4)\n",
    "x=add_numbers(2, 4)\n",
    "y=add_numbers(5, 12)\n",
    "print(add_numbers(7, 15))\n",
    "print(x, y) "
   ]
  },
  {
   "cell_type": "code",
   "execution_count": null,
   "metadata": {},
   "outputs": [],
   "source": []
  }
 ],
 "metadata": {
  "kernelspec": {
   "display_name": "Python 3",
   "language": "python",
   "name": "python3"
  },
  "language_info": {
   "codemirror_mode": {
    "name": "ipython",
    "version": 3
   },
   "file_extension": ".py",
   "mimetype": "text/x-python",
   "name": "python",
   "nbconvert_exporter": "python",
   "pygments_lexer": "ipython3",
   "version": "3.7.3"
  }
 },
 "nbformat": 4,
 "nbformat_minor": 2
}
