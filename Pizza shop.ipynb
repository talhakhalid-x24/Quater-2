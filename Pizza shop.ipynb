{
 "cells": [
  {
   "cell_type": "code",
   "execution_count": 9,
   "metadata": {},
   "outputs": [
    {
     "name": "stdout",
     "output_type": "stream",
     "text": [
      "Enter the name of Pizza: Maxican\n",
      "Enter the price of Pizza: 800\n",
      "\n",
      "{'Maxican': '800'}\n",
      "Enter the name of Pizza: Italian\n",
      "Enter the price of Pizza: 900\n",
      "\n",
      "{'Maxican': '800', 'Italian': '900'}\n",
      "Enter the name of Pizza: Chinese\n",
      "Enter the price of Pizza: 700\n",
      "\n",
      "{'Maxican': '800', 'Italian': '900', 'Chinese': '700'}\n",
      "Enter the name of Pizza: japanese\n",
      "Enter the price of Pizza: 1000\n",
      "ok\n",
      "{'Maxican': '800', 'Italian': '900', 'Chinese': '700', 'japanese': '1000'}\n"
     ]
    }
   ],
   "source": [
    "import json\n",
    "pizza = dict()\n",
    "for_loop = \"\"\n",
    "while for_loop != \"ok\":\n",
    "    pname=input(\"Enter the name of Pizza: \")\n",
    "    pprice=input(\"Enter the price of Pizza: \")\n",
    "    if for_loop!=\"ok\":\n",
    "        pizza[pname]=pprice\n",
    "        for_loop=input()\n",
    "        print(pizza)\n",
    "with open(\"pizza.json\",\"w\")as a:\n",
    "    json.dump(pizza,a)"
   ]
  },
  {
   "cell_type": "code",
   "execution_count": 10,
   "metadata": {},
   "outputs": [
    {
     "name": "stdout",
     "output_type": "stream",
     "text": [
      "{'Maxican': '800', 'Italian': '900', 'Chinese': '700', 'japanese': '1000'}\n"
     ]
    }
   ],
   "source": [
    "import json\n",
    "with open(\"pizza.json\")as a:\n",
    "    pizza=json.load(a)\n",
    "print(pizza)"
   ]
  },
  {
   "cell_type": "code",
   "execution_count": 13,
   "metadata": {},
   "outputs": [
    {
     "name": "stdout",
     "output_type": "stream",
     "text": [
      "Enter the name of pizza: Singaporian\n",
      "Enter the the price of pizza: 1200\n",
      "{'Maxican': '800', 'Italian': '900', 'Chinese': '700', 'japanese': '1000', 'Singaporian': '1200'}\n"
     ]
    }
   ],
   "source": [
    "pname=input(\"Enter the name of pizza: \")\n",
    "pprice=input(\"Enter the the price of pizza: \")\n",
    "pizza[pname]=pprice\n",
    "print(pizza)\n",
    "with open(\"pizza.json\")as a:\n",
    "    pizza=json.load(a)"
   ]
  },
  {
   "cell_type": "code",
   "execution_count": 12,
   "metadata": {},
   "outputs": [
    {
     "name": "stdout",
     "output_type": "stream",
     "text": [
      "Enter the name of Pizza: Maxican\n",
      "Name exist\n"
     ]
    }
   ],
   "source": [
    "if(pname==input(\"Enter the name of Pizza: \")):\n",
    "    print(\"Name exist\")\n",
    "else:\n",
    "    print(\"Name doesn't exist\")"
   ]
  }
 ],
 "metadata": {
  "kernelspec": {
   "display_name": "Python 3",
   "language": "python",
   "name": "python3"
  },
  "language_info": {
   "codemirror_mode": {
    "name": "ipython",
    "version": 3
   },
   "file_extension": ".py",
   "mimetype": "text/x-python",
   "name": "python",
   "nbconvert_exporter": "python",
   "pygments_lexer": "ipython3",
   "version": "3.7.3"
  }
 },
 "nbformat": 4,
 "nbformat_minor": 2
}
