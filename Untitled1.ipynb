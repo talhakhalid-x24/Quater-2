{
 "cells": [
  {
   "cell_type": "markdown",
   "metadata": {},
   "source": [
    "# def searchDict(dct,genre):\n",
    "    genre= input(\"What genre: \")\n",
    "    for key, val in dct.items():\n",
    "        if key== genre:\n",
    "            print(\"Location of genre\",genre, \" is \",val)\n",
    "            break\n",
    "\n",
    "fictions = {\"comedy\":\"A\",\"comic\":\"B\"}\n",
    "nonfiction = {\"History\":\"F\",\"Arts\":\"G\"}\n",
    "choice=\"\"\n",
    "while(choice!=9):\n",
    "    choice = int(input(\"1 Fiction, 2 nonfiction, 9=quit (1/2)\"))\n",
    "    if choice == 1:\n",
    "        searchDict(fictions, genre)\n",
    "    elif choice == 2:\n",
    "        searchDict(nonfiction, genre)"
   ]
  },
  {
   "cell_type": "code",
   "execution_count": null,
   "metadata": {},
   "outputs": [],
   "source": []
  },
  {
   "cell_type": "code",
   "execution_count": null,
   "metadata": {},
   "outputs": [],
   "source": []
  }
 ],
 "metadata": {
  "kernelspec": {
   "display_name": "Python 3",
   "language": "python",
   "name": "python3"
  },
  "language_info": {
   "codemirror_mode": {
    "name": "ipython",
    "version": 3
   },
   "file_extension": ".py",
   "mimetype": "text/x-python",
   "name": "python",
   "nbconvert_exporter": "python",
   "pygments_lexer": "ipython3",
   "version": "3.7.3"
  }
 },
 "nbformat": 4,
 "nbformat_minor": 2
}
