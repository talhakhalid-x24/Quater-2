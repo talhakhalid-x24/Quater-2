{
 "cells": [
  {
   "cell_type": "raw",
   "metadata": {},
   "source": [
    "Class notes\n",
    "Sir said, variables should be noun."
   ]
  },
  {
   "cell_type": "code",
   "execution_count": 2,
   "metadata": {},
   "outputs": [
    {
     "data": {
      "text/plain": [
       "1"
      ]
     },
     "execution_count": 2,
     "metadata": {},
     "output_type": "execute_result"
    }
   ],
   "source": [
    "10%3"
   ]
  },
  {
   "cell_type": "code",
   "execution_count": 8,
   "metadata": {},
   "outputs": [
    {
     "name": "stdout",
     "output_type": "stream",
     "text": [
      "mark sam\n",
      "20\n"
     ]
    }
   ],
   "source": [
    "name = \"mark\"\n",
    "name=name+\" sam\"     #Concatenation\n",
    "value=10\n",
    "value=value+10\n",
    "\n",
    "print(name)\n",
    "print(value)"
   ]
  },
  {
   "cell_type": "code",
   "execution_count": 14,
   "metadata": {},
   "outputs": [
    {
     "data": {
      "text/plain": [
       "6"
      ]
     },
     "execution_count": 14,
     "metadata": {},
     "output_type": "execute_result"
    }
   ],
   "source": [
    "2 % 4 * 3"
   ]
  },
  {
   "cell_type": "code",
   "execution_count": 17,
   "metadata": {},
   "outputs": [
    {
     "name": "stdout",
     "output_type": "stream",
     "text": [
      "Hello, World!\n"
     ]
    }
   ],
   "source": [
    "greeting=\"Hello\"\n",
    "separators=\", \"\n",
    "addresses=\"World\"\n",
    "punc=\"!\"\n",
    "whole_greeting=greeting+separators+addresses+punc\n",
    "print(whole_greeting)"
   ]
  },
  {
   "cell_type": "code",
   "execution_count": 37,
   "metadata": {},
   "outputs": [],
   "source": [
    "species = \"Cat\""
   ]
  },
  {
   "cell_type": "code",
   "execution_count": 35,
   "metadata": {},
   "outputs": [
    {
     "name": "stdout",
     "output_type": "stream",
     "text": [
      "yep, It's a Cat\n"
     ]
    }
   ],
   "source": [
    "if species == \"Cat\":\n",
    "    print(\"yep, It's a Cat\")"
   ]
  },
  {
   "cell_type": "code",
   "execution_count": 42,
   "metadata": {},
   "outputs": [
    {
     "name": "stdout",
     "output_type": "stream",
     "text": [
      "The number was  10\n",
      "It's a positive number\n",
      "number is  10\n"
     ]
    }
   ],
   "source": [
    "a = 10\n",
    "if a > 0:\n",
    "    print(\"The number was \",a)\n",
    "    print(\"It's a positive number\")   #end of if block\n",
    "else:\n",
    "    print(\"It's a negativer number\")\n",
    "print(\"number is \",a)"
   ]
  },
  {
   "cell_type": "code",
   "execution_count": 58,
   "metadata": {
    "scrolled": true
   },
   "outputs": [
    {
     "name": "stdout",
     "output_type": "stream",
     "text": [
      "10\n"
     ]
    }
   ],
   "source": [
    "donut_condition = \"fresh\"\n",
    "donut_price = \"low\"\n",
    "\n",
    "if donut_condition == \"fresh\": \n",
    "    buy_score = 10 \n",
    "elif donut_price == \"low\":  \n",
    "    buy_score = 5\n",
    "else: \n",
    "    buy_score = 0\n",
    "    \n",
    "print(buy_score)"
   ]
  },
  {
   "cell_type": "code",
   "execution_count": 68,
   "metadata": {},
   "outputs": [
    {
     "name": "stdout",
     "output_type": "stream",
     "text": [
      "10\n"
     ]
    }
   ],
   "source": [
    "donut_filling = \"reasonable\"\n",
    "buy_score = 0 \n",
    "if donut_condition == \"fresh\":    \n",
    "    buy_score += 10 \n",
    "if donut_filling == \"chocolate\": \n",
    "    buy_score += 5 \n",
    "if donut_price == \"reasonable\":  \n",
    "    buy_score += 7\n",
    "    \n",
    "print(buy_score)"
   ]
  },
  {
   "cell_type": "code",
   "execution_count": 92,
   "metadata": {},
   "outputs": [
    {
     "data": {
      "text/plain": [
       "True"
      ]
     },
     "execution_count": 92,
     "metadata": {},
     "output_type": "execute_result"
    }
   ],
   "source": [
    "age = 20\n",
    "res = \"U.K.\"\n",
    "age > 65 or age < 21 and res == \"U.K.\""
   ]
  },
  {
   "cell_type": "code",
   "execution_count": 40,
   "metadata": {},
   "outputs": [
    {
     "name": "stdout",
     "output_type": "stream",
     "text": [
      "Welcome back to Hogwarts, Harry!\n"
     ]
    }
   ],
   "source": [
    "first_name = \"Harry\"\n",
    "last_name = \"Potter\"\n",
    "if first_name == \"Harry\":\n",
    "    if last_name == \"Potter\":\n",
    "        # if interest == \"wizardry\" \n",
    "            print(\"Welcome back to Hogwarts, Harry!\")\n",
    "    else:\n",
    "        print(\"Name is incorrect\")"
   ]
  },
  {
   "cell_type": "code",
   "execution_count": 35,
   "metadata": {},
   "outputs": [
    {
     "name": "stdout",
     "output_type": "stream",
     "text": [
      "Welcome to Chicago\n",
      "Bob\n",
      "['Atlanta', 'Karachi', 'Hyderabad', 'Chicago', 'Denver', 'Los Angeles', 'Seattle', 'Newyork', 1]\n",
      "['Walk dog', 'Buy groceries']\n",
      "['Walk dog', 'Buy groceries', 'Atlanta', 'Karachi', 'Hyderabad', 'Chicago', 'Denver', 'Los Angeles', 'Seattle', 'Newyork', 1]\n"
     ]
    }
   ],
   "source": [
    "cities = [\"Atlanta\", \"Baltimore\", \"Chicago\", \"Denver\", \"Los Angeles\", \"Seattle\"]\n",
    "print(\"Welcome to \" + cities[2])\n",
    "cities.insert(1, \"Karachi\")\n",
    "cities[2] = \"Hyderabad\"\n",
    "\n",
    "mixed_things = [1, \"Bob\", \"Now is\"]\n",
    "print(mixed_things[1])\n",
    "\n",
    "cities.append(\"Newyork\")\n",
    "cities.append(1)\n",
    "print(cities)\n",
    "\n",
    "todays_tasks = []\n",
    "todays_tasks = todays_tasks + [\"Walk dog\", \"Buy groceries\"]\n",
    "print(todays_tasks)\n",
    "\n",
    "A = todays_tasks + cities\n",
    "print(A)"
   ]
  },
  {
   "cell_type": "code",
   "execution_count": 22,
   "metadata": {},
   "outputs": [
    {
     "name": "stdout",
     "output_type": "stream",
     "text": [
      "['Hyderabad', 'Chicago', 'Denver', 'Los Angeles', 'Seattle', 'Newyork', 1]\n"
     ]
    }
   ],
   "source": [
    "smaller_list_of_cities = cities[2:]\n",
    "print(smaller_list_of_cities)"
   ]
  },
  {
   "cell_type": "code",
   "execution_count": 27,
   "metadata": {},
   "outputs": [
    {
     "name": "stdout",
     "output_type": "stream",
     "text": [
      "['Karachi', 'Hyderabad', 'Chicago', 'Denver', 'Los Angeles', 'Seattle', 'Newyork', 1]\n"
     ]
    }
   ],
   "source": [
    "del cities[0]\n",
    "print(cities)"
   ]
  },
  {
   "cell_type": "code",
   "execution_count": 38,
   "metadata": {},
   "outputs": [
    {
     "name": "stdout",
     "output_type": "stream",
     "text": [
      "['Atlanta', 'Karachi', 'Hyderabad', 'Chicago', 'Denver', 'Los Angeles', 'Seattle']\n"
     ]
    }
   ],
   "source": [
    "cities.pop()\n",
    "print(cities)"
   ]
  },
  {
   "cell_type": "code",
   "execution_count": 12,
   "metadata": {},
   "outputs": [
    {
     "name": "stdout",
     "output_type": "stream",
     "text": [
      "['Walk dog', 'Buy groceries', 'Atlanta', 'Baltimore', 'Chicago', 'Denver', 'Los Angeles', 'Seattle', 'Newyork', 1]\n"
     ]
    }
   ],
   "source": [
    "print(A)"
   ]
  },
  {
   "cell_type": "code",
   "execution_count": 23,
   "metadata": {},
   "outputs": [],
   "source": [
    "subjects = [\"English\", \"Urdu\", \"Islamiyat\", \"PST\", \"Computer\"]\n",
    "Marks = [60, 65, 90, 55, 85]"
   ]
  },
  {
   "cell_type": "code",
   "execution_count": 44,
   "metadata": {},
   "outputs": [
    {
     "name": "stdout",
     "output_type": "stream",
     "text": [
      "English\n",
      "Urdu\n",
      "Islamiyat\n",
      "PST\n",
      "Computer\n",
      "355\n"
     ]
    }
   ],
   "source": [
    "tot_subs = subjects[0] +\"\\n\"+ subjects[1] +\"\\n\"+ subjects[2] +\"\\n\"+ subjects[3] +\"\\n\"+ subjects[4]\n",
    "print(tot_subs)\n",
    "tot_marks  = Marks[0] + Marks[1] + Marks[2] + Marks[3] + Marks[4]\n",
    "print(tot_marks)"
   ]
  },
  {
   "cell_type": "code",
   "execution_count": 15,
   "metadata": {},
   "outputs": [
    {
     "name": "stdout",
     "output_type": "stream",
     "text": [
      "355\n"
     ]
    }
   ],
   "source": [
    "tot_marks  = Marks[0] + Marks[1] + Marks[2] + Marks[3] + Marks[4]\n",
    "print(tot_marks)"
   ]
  }
 ],
 "metadata": {
  "kernelspec": {
   "display_name": "Python 3",
   "language": "python",
   "name": "python3"
  },
  "language_info": {
   "codemirror_mode": {
    "name": "ipython",
    "version": 3
   },
   "file_extension": ".py",
   "mimetype": "text/x-python",
   "name": "python",
   "nbconvert_exporter": "python",
   "pygments_lexer": "ipython3",
   "version": "3.7.3"
  }
 },
 "nbformat": 4,
 "nbformat_minor": 2
}
