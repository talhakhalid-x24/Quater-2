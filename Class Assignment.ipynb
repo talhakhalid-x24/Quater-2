{
 "cells": [
  {
   "cell_type": "code",
   "execution_count": 6,
   "metadata": {},
   "outputs": [
    {
     "name": "stdout",
     "output_type": "stream",
     "text": [
      "1 : 1\n",
      "2 : 1\n",
      "3 : 1\n",
      "4 : 1\n",
      "5 : 1\n",
      "6 : 1\n",
      "7 : 1\n",
      "8 : 1\n",
      "9 : 1\n"
     ]
    }
   ],
   "source": [
    "values=\"1,2,3,4,5,6,7,8,9\"\n",
    "vlist=values.split(\",\")\n",
    "dct={}\n",
    "for v in vlist:\n",
    "    v=v.strip()\n",
    "    #print(i,v)\n",
    "    if v in dct:\n",
    "        dct[v] += 1 #dct[v] +1\n",
    "    else:\n",
    "        dct[v] = 1\n",
    "for key,value in dct.items():\n",
    "        print(key,\":\",value)"
   ]
  }
 ],
 "metadata": {
  "kernelspec": {
   "display_name": "Python 3",
   "language": "python",
   "name": "python3"
  },
  "language_info": {
   "codemirror_mode": {
    "name": "ipython",
    "version": 3
   },
   "file_extension": ".py",
   "mimetype": "text/x-python",
   "name": "python",
   "nbconvert_exporter": "python",
   "pygments_lexer": "ipython3",
   "version": "3.7.3"
  }
 },
 "nbformat": 4,
 "nbformat_minor": 2
}
